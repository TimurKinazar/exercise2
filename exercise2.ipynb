{
 "cells": [
  {
   "cell_type": "code",
   "execution_count": null,
   "metadata": {},
   "outputs": [],
   "source": [
    "#6\n",
    "import numpy as np\n",
    "import random\n",
    "from scipy.spatial.distance import cdist\n",
    "from scipy.cluster.vq import vq, whiten\n",
    "def kmean (a, book, tresh = 1e-05):\n",
    "    tmp=1.\n",
    "    d=0.\n",
    "    n=int(a.size/a[0].size)\n",
    "    codebook = np.array(book)\n",
    "    k = int(book.size/2)\n",
    "        \n",
    "    while abs(tmp-d) > tresh:\n",
    "        d=tmp\n",
    "        s = np.argmin(cdist(a,codebook), axis=1)\n",
    "        for i in range(k):\n",
    "            l=[]\n",
    "            for j in range(n):\n",
    "                if np.any(s[j]==i):\n",
    "                    l.append(a[j])\n",
    "            codebook[i]=np.mean(l,0)\n",
    "        tmp=np.std(codebook)\n",
    "    return(codebook,d)\n",
    "\n"
   ]
  },
  {
   "cell_type": "code",
   "execution_count": null,
   "metadata": {},
   "outputs": [],
   "source": [
    "features  = np.array([[ 1.9,2.3],\n",
    "                    [ 1.5,2.5],\n",
    "                    [ 0.8,0.6],\n",
    "                    [ 0.4,1.8],\n",
    "                    [ 0.1,0.1],\n",
    "                    [ 0.2,1.8],\n",
    "                    [ 2.0,0.5],\n",
    "                    [ 0.3,1.5],\n",
    "                    [ 1.0,1.0]])\n",
    "whitened = whiten(features)\n",
    "book = np.array((whitened[0],whitened[2]))\n",
    "kmean(whitened,book)\n"
   ]
  },
  {
   "cell_type": "code",
   "execution_count": null,
   "metadata": {},
   "outputs": [],
   "source": [
    "#1\n"
   ]
  }
 ],
 "metadata": {
  "kernelspec": {
   "display_name": "Python 3",
   "language": "python",
   "name": "python3"
  },
  "language_info": {
   "codemirror_mode": {
    "name": "ipython",
    "version": 3
   },
   "file_extension": ".py",
   "mimetype": "text/x-python",
   "name": "python",
   "nbconvert_exporter": "python",
   "pygments_lexer": "ipython3",
   "version": "3.6.5"
  }
 },
 "nbformat": 4,
 "nbformat_minor": 2
}
