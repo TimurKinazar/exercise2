{
 "cells": [
  {
   "cell_type": "code",
   "execution_count": null,
   "metadata": {},
   "outputs": [],
   "source": [
    "#6\n",
    "import numpy as np\n",
    "import random\n",
    "from scipy.spatial.distance import cdist\n",
    "from scipy.cluster.vq import vq, whiten\n",
    "def kmean (a, book, tresh = 1e-05):\n",
    "    tmp=1.\n",
    "    d=0.\n",
    "    n=int(a.size/a[0].size)\n",
    "    codebook = np.array(book)\n",
    "    k = int(book.size/2)\n",
    "        \n",
    "    while abs(tmp-d) > tresh:\n",
    "        d=tmp\n",
    "        s = np.argmin(cdist(a,codebook), axis=1)\n",
    "        for i in range(k):\n",
    "            l=[]\n",
    "            for j in range(n):\n",
    "                if np.any(s[j]==i):\n",
    "                    l.append(a[j])\n",
    "            codebook[i]=np.mean(l,0)\n",
    "        tmp=np.std(codebook)\n",
    "    return(codebook,d)\n",
    "\n"
   ]
  },
  {
   "cell_type": "code",
   "execution_count": null,
   "metadata": {},
   "outputs": [],
   "source": [
    "features  = np.array([[ 1.9,2.3],\n",
    "                    [ 1.5,2.5],\n",
    "                    [ 0.8,0.6],\n",
    "                    [ 0.4,1.8],\n",
    "                    [ 0.1,0.1],\n",
    "                    [ 0.2,1.8],\n",
    "                    [ 2.0,0.5],\n",
    "                    [ 0.3,1.5],\n",
    "                    [ 1.0,1.0]])\n",
    "whitened = whiten(features)\n",
    "book = np.array((whitened[0],whitened[2]))\n",
    "kmean(whitened,book)\n"
   ]
  },
  {
   "cell_type": "code",
   "execution_count": 14,
   "metadata": {},
   "outputs": [
    {
     "name": "stdout",
     "output_type": "stream",
     "text": [
      "[[0.71849214 0.94025115 0.06237014]\n",
      " [0.6073561  0.27816128 0.26988173]\n",
      " [0.2109263  0.75373948 0.78666226]\n",
      " [0.29941371 0.50528554 0.9299385 ]\n",
      " [0.77726313 0.85640386 0.96707018]\n",
      " [0.67086774 0.81529453 0.20830047]\n",
      " [0.88002336 0.81758391 0.07964624]\n",
      " [0.21898743 0.8484765  0.97533203]\n",
      " [0.67921894 0.31645813 0.56890642]\n",
      " [0.88732157 0.51686236 0.62639193]] \n",
      "\n",
      "[0.71849214 0.6073561  0.75373948 0.50528554 0.77726313 0.67086774\n",
      " 0.81758391 0.21898743 0.56890642 0.51686236]\n"
     ]
    }
   ],
   "source": [
    "#1\n",
    "import numpy as np\n",
    "a=np.random.random((10,3))\n",
    "print(a,\"\\n\")\n",
    "z=np.min(abs(a-0.5),1)\n",
    "x=z+0.5\n",
    "y=0.5-z\n",
    "min=(a[:,0]==x)+(a[:,1]==x)+(a[:,2]==x)\n",
    "y[min]=x[min]\n",
    "print(y)\n"
   ]
  },
  {
   "cell_type": "code",
   "execution_count": 15,
   "metadata": {},
   "outputs": [
    {
     "name": "stdout",
     "output_type": "stream",
     "text": [
      "[[0.59036444 0.8492458  0.05275047 0.32803133 0.79698078 0.90079143]\n",
      " [0.75268956 0.06452151 0.9119762  0.03516616 0.51255703 0.45181548]\n",
      " [0.73830952 0.68526895 0.88026959 0.01303389 0.65234517 0.85293325]\n",
      " [0.75619061 0.44101551 0.67513318 0.90976472 0.06587565 0.50627813]\n",
      " [0.2617418  0.69591209 0.50083815 0.57740606 0.45388305 0.21538011]\n",
      " [0.666436   0.96509975 0.15305203 0.1585733  0.77176606 0.88043396]] \n",
      "\n",
      "[ 13.4413543   42.29172564  72.45736604 257.34904122  41.06466178\n",
      "  16.69309725]\n"
     ]
    }
   ],
   "source": [
    "#2\n",
    "import numpy as np\n",
    "a=np.random.random((6,6))\n",
    "print (a ,\"\\n\")\n",
    "print((np.sum(a,axis=1))/(np.min(a,axis=0)))"
   ]
  },
  {
   "cell_type": "code",
   "execution_count": 24,
   "metadata": {},
   "outputs": [
    {
     "name": "stdout",
     "output_type": "stream",
     "text": [
      "5\n"
     ]
    }
   ],
   "source": [
    "#3\n",
    "import numpy as np\n",
    "x=np.array([6,2,0,3,0,0,5,7,0])\n",
    "tmp =x==0\n",
    "tmp[x.size-1]=False\n",
    "tmp=~np.roll(tmp,1)\n",
    "x[tmp]=0\n",
    "print(str(np.max(x)))"
   ]
  },
  {
   "cell_type": "code",
   "execution_count": 23,
   "metadata": {},
   "outputs": [
    {
     "name": "stdout",
     "output_type": "stream",
     "text": [
      "{0: [0], 1: [1, 4], 2: [2, 5, 8], 3: [3, 6, 9, 12], 4: [7, 10, 13], 5: [11, 14], 6: [15]}\n"
     ]
    }
   ],
   "source": [
    "#5\n",
    "import numpy as np\n",
    "n=4\n",
    "a=np.arange(n*n).reshape(n,n)\n",
    "b=np.array(a).reshape(n*n)\n",
    "\n",
    "x={ }\n",
    "y={ }\n",
    "x.update({0: [0]})\n",
    "vector=b[n-1::n-1]\n",
    "y.update({n-1:list(vector[:-1])})\n",
    "for i in range(1,n-1):\n",
    "    x.update({i: list(b[i::n-1][:i+1])})\n",
    "    y.update({i+n-1:list(b[i::n-1][i+1:])})\n",
    "\n",
    "y.update({2*n-2: [n*n-1]})\n",
    "x.update(y)\n",
    "print(x)"
   ]
  },
  {
   "cell_type": "code",
   "execution_count": 27,
   "metadata": {},
   "outputs": [
    {
     "name": "stdout",
     "output_type": "stream",
     "text": [
      "[2. 2. 2. 2. 1. 4. 1. 1. 2. 1.]\n"
     ]
    }
   ],
   "source": [
    "#4\n",
    "import numpy as np\n",
    "x=np.ones(10)\n",
    "i=np.array([0,1,2,3,5,5,5,8])\n",
    "size=x.size\n",
    "x +=np.bincount(i, minlength=size)\n",
    "print(x)"
   ]
  },
  {
   "cell_type": "code",
   "execution_count": null,
   "metadata": {},
   "outputs": [],
   "source": []
  }
 ],
 "metadata": {
  "kernelspec": {
   "display_name": "Python 3",
   "language": "python",
   "name": "python3"
  },
  "language_info": {
   "codemirror_mode": {
    "name": "ipython",
    "version": 3
   },
   "file_extension": ".py",
   "mimetype": "text/x-python",
   "name": "python",
   "nbconvert_exporter": "python",
   "pygments_lexer": "ipython3",
   "version": "3.6.5"
  }
 },
 "nbformat": 4,
 "nbformat_minor": 2
}
