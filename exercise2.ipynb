{
 "cells": [
  {
   "cell_type": "code",
   "execution_count": null,
   "metadata": {},
   "outputs": [],
   "source": [
    "#6\n",
    "import numpy as np\n",
    "import random\n",
    "from scipy.spatial.distance import cdist\n",
    "from scipy.cluster.vq import vq, whiten\n",
    "def kmean (a, book, tresh = 1e-05):\n",
    "    tmp=1.\n",
    "    d=0.\n",
    "    n=int(a.size/a[0].size)\n",
    "    codebook = np.array(book)\n",
    "    k = int(book.size/2)\n",
    "        \n",
    "    while abs(tmp-d) > tresh:\n",
    "        d=tmp\n",
    "        s = np.argmin(cdist(a,codebook), axis=1)\n",
    "        for i in range(k):\n",
    "            l=[]\n",
    "            for j in range(n):\n",
    "                if np.any(s[j]==i):\n",
    "                    l.append(a[j])\n",
    "            codebook[i]=np.mean(l,0)\n",
    "        tmp=np.std(codebook)\n",
    "    return(codebook,d)\n",
    "\n"
   ]
  },
  {
   "cell_type": "code",
   "execution_count": null,
   "metadata": {},
   "outputs": [],
   "source": [
    "features  = np.array([[ 1.9,2.3],\n",
    "                    [ 1.5,2.5],\n",
    "                    [ 0.8,0.6],\n",
    "                    [ 0.4,1.8],\n",
    "                    [ 0.1,0.1],\n",
    "                    [ 0.2,1.8],\n",
    "                    [ 2.0,0.5],\n",
    "                    [ 0.3,1.5],\n",
    "                    [ 1.0,1.0]])\n",
    "whitened = whiten(features)\n",
    "book = np.array((whitened[0],whitened[2]))\n",
    "kmean(whitened,book)\n"
   ]
  },
  {
   "cell_type": "code",
   "execution_count": 19,
   "metadata": {},
   "outputs": [
    {
     "name": "stdout",
     "output_type": "stream",
     "text": [
      "[[0.35567506 0.04554155 0.78470264]\n",
      " [0.66872848 0.6462302  0.32027302]\n",
      " [0.04008228 0.63759404 0.69022343]\n",
      " [0.54204933 0.39781564 0.69739156]\n",
      " [0.53701322 0.84705779 0.19071276]\n",
      " [0.19528068 0.89336539 0.08419755]\n",
      " [0.62886351 0.19182125 0.5432124 ]\n",
      " [0.27341481 0.45750626 0.02107052]\n",
      " [0.32888278 0.95949157 0.45910842]\n",
      " [0.04305704 0.880606   0.59098838]] \n",
      "\n",
      "12\n"
     ]
    }
   ],
   "source": [
    "#1\n",
    "import numpy as np\n",
    "a=np.random.random((10,3))\n",
    "print(a,\"\\n\")\n",
    "np.abs(a-0.5).argmin()\n",
    "\n"
   ]
  },
  {
   "cell_type": "code",
   "execution_count": 15,
   "metadata": {},
   "outputs": [
    {
     "name": "stdout",
     "output_type": "stream",
     "text": [
      "[[0.59036444 0.8492458  0.05275047 0.32803133 0.79698078 0.90079143]\n",
      " [0.75268956 0.06452151 0.9119762  0.03516616 0.51255703 0.45181548]\n",
      " [0.73830952 0.68526895 0.88026959 0.01303389 0.65234517 0.85293325]\n",
      " [0.75619061 0.44101551 0.67513318 0.90976472 0.06587565 0.50627813]\n",
      " [0.2617418  0.69591209 0.50083815 0.57740606 0.45388305 0.21538011]\n",
      " [0.666436   0.96509975 0.15305203 0.1585733  0.77176606 0.88043396]] \n",
      "\n",
      "[ 13.4413543   42.29172564  72.45736604 257.34904122  41.06466178\n",
      "  16.69309725]\n"
     ]
    }
   ],
   "source": [
    "#2\n",
    "import numpy as np\n",
    "a=np.random.random((6,6))\n",
    "print (a ,\"\\n\")\n",
    "print((np.sum(a,axis=1))/(np.min(a,axis=0)))"
   ]
  },
  {
   "cell_type": "code",
   "execution_count": 13,
   "metadata": {},
   "outputs": [
    {
     "name": "stdout",
     "output_type": "stream",
     "text": [
      "5\n"
     ]
    }
   ],
   "source": [
    "#3\n",
    "import numpy as np\n",
    "x=np.array([6,2,0,3,0,0,5,7,0])\n",
    "tmp =x==0\n",
    "print (x[1:][tmp[:-1]].max())"
   ]
  },
  {
   "cell_type": "code",
   "execution_count": 55,
   "metadata": {},
   "outputs": [
    {
     "name": "stdout",
     "output_type": "stream",
     "text": [
      "{0: [0], 1: [1, 4], 2: [2, 5, 8], 3: [3, 6, 9, 12], 4: [4, 7, 10, 13], 5: [5, 8, 11, 14], 6: [6, 9, 12, 15]}\n"
     ]
    }
   ],
   "source": [
    "#5\n",
    "import numpy as np\n",
    "n=4\n",
    "a=np.arange(n*n).reshape(n,n)\n",
    "b=np.array(a).reshape(n*n)\n",
    "d = { }\n",
    "for i in range (2*n-1):\n",
    "    d.update ({i:list((b[i::n-1][:i+1]))}) #фактически сам код занимает две строчки\n",
    "print (d)"
   ]
  },
  {
   "cell_type": "code",
   "execution_count": 2,
   "metadata": {},
   "outputs": [
    {
     "name": "stdout",
     "output_type": "stream",
     "text": [
      "[2. 2. 2. 2. 1. 4. 1. 1. 2. 1.]\n"
     ]
    }
   ],
   "source": [
    "#4\n",
    "import numpy as np\n",
    "x=np.ones(10)\n",
    "i=np.array([0,1,2,3,5,5,5,8])\n",
    "size=x.size\n",
    "print (x+np.bincount(i, minlength=size))\n"
   ]
  },
  {
   "cell_type": "code",
   "execution_count": null,
   "metadata": {},
   "outputs": [],
   "source": []
  }
 ],
 "metadata": {
  "kernelspec": {
   "display_name": "Python 3",
   "language": "python",
   "name": "python3"
  },
  "language_info": {
   "codemirror_mode": {
    "name": "ipython",
    "version": 3
   },
   "file_extension": ".py",
   "mimetype": "text/x-python",
   "name": "python",
   "nbconvert_exporter": "python",
   "pygments_lexer": "ipython3",
   "version": "3.6.5"
  }
 },
 "nbformat": 4,
 "nbformat_minor": 2
}
